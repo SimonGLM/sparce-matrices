{
 "cells": [
  {
   "cell_type": "code",
   "execution_count": 15,
   "metadata": {},
   "outputs": [],
   "source": [
    "import libsparse as sp"
   ]
  },
  {
   "cell_type": "markdown",
   "metadata": {},
   "source": [
    "sparse matrices\n",
    "===============\n",
    "\n",
    "Sparse matrices are matrices that are mostly empty i.e. zeros.\n",
    "\n",
    "An Example for these matrices would be in the ODE of a linear chain with 6 elements.\n",
    "The Equation to solve these systems is called *Hook's Law*:\n",
    "$-\\ddot{x}=\\mathbf{\\kappa} x$\n",
    "$$\n",
    "\\kappa =\n",
    "\\begin{pmatrix}\n",
    "2 & -1 & 0 & 0 & 0 & 0\\\\\n",
    "-1 & 2 & -1 & 0 & 0 & 0\\\\\n",
    "0 & -1 & 2 & -1 & 0 & 0\\\\\n",
    "0 & 0 & -1 & 2 & -1 & 0\\\\\n",
    "0 & 0 & 0 & -1 & 2 & -1\\\\\n",
    "0 & 0 & 0 & 0 & -1 & 2\n",
    "\\end{pmatrix}\n",
    "$$\n",
    "\n",
    "As one can see, most of the elements in this matrix are zero.\n",
    "\n",
    "In these type of problems and in many more, these matrices can get very large and memory intensive. We therefore need a way of working with these low density matrices in a memory efficient way.\n",
    "\n",
    "The solution is to not store the redundant zeros.\n",
    "\n",
    "Storage scheme\n",
    "---------------\n",
    "Not storing the zeros can be done with a number of different strategies:\n",
    "\n",
    "- **C**ompressed **S**parse **R**ow     (CSR)\n",
    "- **C**ompressed **S**parse **C**olumn  (CSC)\n",
    "- **Li**st of **L**ists                 (LIL)\n",
    "- **Coo**rdinate List                   (COO)\n",
    "- ...\n",
    "\n",
    "In this project we will focus on the CSR format.\n",
    "\n",
    "The CSR format consists of 3 lists:\n",
    "\n",
    "|      | 0 |  1 |  2 |  3 |  4 |  5 |  6 |  7 |  8 |  9 |\n",
    "|:----:|--:|---:|---:|---:|---:|---:|---:|---:|---:|---:|\n",
    "| AVAL | 2 | -1 | -1 |  2 | -1 | -1 |  2 | -1 | -1 |  2 |\n",
    "| JCOL | 1 |  2 |  1 |  2 |  3 |  2 |  3 |  4 |  3 |  4 |\n",
    "| IROW | 0 |  2 |  5 |  8 | 10 |\n",
    "\n",
    "- AVAL : the values\n",
    "- JCOL : the index in the matrix where the value from AVAL belongs\n",
    "- IROW : these are the indices of AVAL or JCOL where a new row begins"
   ]
  },
  {
   "cell_type": "markdown",
   "metadata": {},
   "source": [
    "Our Project\n",
    "===========\n",
    "\n",
    "The task of our project is to implement the storage scheme and necessary mathmatical operations to solve linear systems of equations.\n",
    "In order to achieve this and as an expansion of this task, our aim was to create a data object which can be used just as seamless as the `scipy.sparse` object.\n",
    "\n",
    "We therefore needed to develop a class which can be given a standard numpy array and constructs CSR lists as well as providing methods like addition subtraction and mulitplication. These should work on these lists without creating a full-size `numpy.ndarray`.\n",
    "\n",
    "In addition we devoleped a class to represent linear systems and which implements different methods of solving.\n"
   ]
  },
  {
   "cell_type": "markdown",
   "metadata": {},
   "source": [
    "Creating the sparse object with an ndarray:"
   ]
  },
  {
   "cell_type": "code",
   "execution_count": 16,
   "metadata": {},
   "outputs": [
    {
     "output_type": "display_data",
     "data": {
      "text/plain": "<Figure size 432x288 with 2 Axes>",
      "image/svg+xml": "<?xml version=\"1.0\" encoding=\"utf-8\" standalone=\"no\"?>\n<!DOCTYPE svg PUBLIC \"-//W3C//DTD SVG 1.1//EN\"\n  \"http://www.w3.org/Graphics/SVG/1.1/DTD/svg11.dtd\">\n<!-- Created with matplotlib (https://matplotlib.org/) -->\n<svg height=\"254.397031pt\" version=\"1.1\" viewBox=\"0 0 308.442625 254.397031\" width=\"308.442625pt\" xmlns=\"http://www.w3.org/2000/svg\" xmlns:xlink=\"http://www.w3.org/1999/xlink\">\n <defs>\n  <style type=\"text/css\">\n*{stroke-linecap:butt;stroke-linejoin:round;}\n  </style>\n </defs>\n <g id=\"figure_1\">\n  <g id=\"patch_1\">\n   <path d=\"M 0 254.397031 \nL 308.442625 254.397031 \nL 308.442625 0 \nL 0 0 \nz\n\" style=\"fill:none;\"/>\n  </g>\n  <g id=\"axes_1\">\n   <g id=\"patch_2\">\n    <path d=\"M 26.925 241.318125 \nL 244.365 241.318125 \nL 244.365 23.878125 \nL 26.925 23.878125 \nz\n\" style=\"fill:#ffffff;\"/>\n   </g>\n   <g clip-path=\"url(#p6cff499d28)\">\n    <image height=\"218\" id=\"image3954a90273\" transform=\"scale(1 -1)translate(0 -218)\" width=\"218\" x=\"26.925\" xlink:href=\"data:image/png;base64,\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\" y=\"-23.318125\"/>\n   </g>\n   <g id=\"matplotlib.axis_1\">\n    <g id=\"xtick_1\">\n     <g id=\"line2d_1\">\n      <defs>\n       <path d=\"M 0 0 \nL 0 3.5 \n\" id=\"m13d927b131\" style=\"stroke:#000000;stroke-width:0.8;\"/>\n      </defs>\n      <g>\n       <use style=\"stroke:#000000;stroke-width:0.8;\" x=\"30.549\" xlink:href=\"#m13d927b131\" y=\"241.318125\"/>\n      </g>\n     </g>\n     <g id=\"line2d_2\">\n      <defs>\n       <path d=\"M 0 0 \nL 0 -3.5 \n\" id=\"m9255439eb8\" style=\"stroke:#000000;stroke-width:0.8;\"/>\n      </defs>\n      <g>\n       <use style=\"stroke:#000000;stroke-width:0.8;\" x=\"30.549\" xlink:href=\"#m9255439eb8\" y=\"23.878125\"/>\n      </g>\n     </g>\n     <g id=\"text_1\">\n      <!-- 0 -->\n      <defs>\n       <path d=\"M 31.78125 66.40625 \nQ 24.171875 66.40625 20.328125 58.90625 \nQ 16.5 51.421875 16.5 36.375 \nQ 16.5 21.390625 20.328125 13.890625 \nQ 24.171875 6.390625 31.78125 6.390625 \nQ 39.453125 6.390625 43.28125 13.890625 \nQ 47.125 21.390625 47.125 36.375 \nQ 47.125 51.421875 43.28125 58.90625 \nQ 39.453125 66.40625 31.78125 66.40625 \nz\nM 31.78125 74.21875 \nQ 44.046875 74.21875 50.515625 64.515625 \nQ 56.984375 54.828125 56.984375 36.375 \nQ 56.984375 17.96875 50.515625 8.265625 \nQ 44.046875 -1.421875 31.78125 -1.421875 \nQ 19.53125 -1.421875 13.0625 8.265625 \nQ 6.59375 17.96875 6.59375 36.375 \nQ 6.59375 54.828125 13.0625 64.515625 \nQ 19.53125 74.21875 31.78125 74.21875 \nz\n\" id=\"DejaVuSans-48\"/>\n      </defs>\n      <g transform=\"translate(27.36775 14.798438)scale(0.1 -0.1)\">\n       <use xlink:href=\"#DejaVuSans-48\"/>\n      </g>\n     </g>\n    </g>\n    <g id=\"xtick_2\">\n     <g id=\"line2d_3\">\n      <g>\n       <use style=\"stroke:#000000;stroke-width:0.8;\" x=\"66.789\" xlink:href=\"#m13d927b131\" y=\"241.318125\"/>\n      </g>\n     </g>\n     <g id=\"line2d_4\">\n      <g>\n       <use style=\"stroke:#000000;stroke-width:0.8;\" x=\"66.789\" xlink:href=\"#m9255439eb8\" y=\"23.878125\"/>\n      </g>\n     </g>\n     <g id=\"text_2\">\n      <!-- 5 -->\n      <defs>\n       <path d=\"M 10.796875 72.90625 \nL 49.515625 72.90625 \nL 49.515625 64.59375 \nL 19.828125 64.59375 \nL 19.828125 46.734375 \nQ 21.96875 47.46875 24.109375 47.828125 \nQ 26.265625 48.1875 28.421875 48.1875 \nQ 40.625 48.1875 47.75 41.5 \nQ 54.890625 34.8125 54.890625 23.390625 \nQ 54.890625 11.625 47.5625 5.09375 \nQ 40.234375 -1.421875 26.90625 -1.421875 \nQ 22.3125 -1.421875 17.546875 -0.640625 \nQ 12.796875 0.140625 7.71875 1.703125 \nL 7.71875 11.625 \nQ 12.109375 9.234375 16.796875 8.0625 \nQ 21.484375 6.890625 26.703125 6.890625 \nQ 35.15625 6.890625 40.078125 11.328125 \nQ 45.015625 15.765625 45.015625 23.390625 \nQ 45.015625 31 40.078125 35.4375 \nQ 35.15625 39.890625 26.703125 39.890625 \nQ 22.75 39.890625 18.8125 39.015625 \nQ 14.890625 38.140625 10.796875 36.28125 \nz\n\" id=\"DejaVuSans-53\"/>\n      </defs>\n      <g transform=\"translate(63.60775 14.798438)scale(0.1 -0.1)\">\n       <use xlink:href=\"#DejaVuSans-53\"/>\n      </g>\n     </g>\n    </g>\n    <g id=\"xtick_3\">\n     <g id=\"line2d_5\">\n      <g>\n       <use style=\"stroke:#000000;stroke-width:0.8;\" x=\"103.029\" xlink:href=\"#m13d927b131\" y=\"241.318125\"/>\n      </g>\n     </g>\n     <g id=\"line2d_6\">\n      <g>\n       <use style=\"stroke:#000000;stroke-width:0.8;\" x=\"103.029\" xlink:href=\"#m9255439eb8\" y=\"23.878125\"/>\n      </g>\n     </g>\n     <g id=\"text_3\">\n      <!-- 10 -->\n      <defs>\n       <path d=\"M 12.40625 8.296875 \nL 28.515625 8.296875 \nL 28.515625 63.921875 \nL 10.984375 60.40625 \nL 10.984375 69.390625 \nL 28.421875 72.90625 \nL 38.28125 72.90625 \nL 38.28125 8.296875 \nL 54.390625 8.296875 \nL 54.390625 0 \nL 12.40625 0 \nz\n\" id=\"DejaVuSans-49\"/>\n      </defs>\n      <g transform=\"translate(96.6665 14.798438)scale(0.1 -0.1)\">\n       <use xlink:href=\"#DejaVuSans-49\"/>\n       <use x=\"63.623047\" xlink:href=\"#DejaVuSans-48\"/>\n      </g>\n     </g>\n    </g>\n    <g id=\"xtick_4\">\n     <g id=\"line2d_7\">\n      <g>\n       <use style=\"stroke:#000000;stroke-width:0.8;\" x=\"139.269\" xlink:href=\"#m13d927b131\" y=\"241.318125\"/>\n      </g>\n     </g>\n     <g id=\"line2d_8\">\n      <g>\n       <use style=\"stroke:#000000;stroke-width:0.8;\" x=\"139.269\" xlink:href=\"#m9255439eb8\" y=\"23.878125\"/>\n      </g>\n     </g>\n     <g id=\"text_4\">\n      <!-- 15 -->\n      <g transform=\"translate(132.9065 14.798438)scale(0.1 -0.1)\">\n       <use xlink:href=\"#DejaVuSans-49\"/>\n       <use x=\"63.623047\" xlink:href=\"#DejaVuSans-53\"/>\n      </g>\n     </g>\n    </g>\n    <g id=\"xtick_5\">\n     <g id=\"line2d_9\">\n      <g>\n       <use style=\"stroke:#000000;stroke-width:0.8;\" x=\"175.509\" xlink:href=\"#m13d927b131\" y=\"241.318125\"/>\n      </g>\n     </g>\n     <g id=\"line2d_10\">\n      <g>\n       <use style=\"stroke:#000000;stroke-width:0.8;\" x=\"175.509\" xlink:href=\"#m9255439eb8\" y=\"23.878125\"/>\n      </g>\n     </g>\n     <g id=\"text_5\">\n      <!-- 20 -->\n      <defs>\n       <path d=\"M 19.1875 8.296875 \nL 53.609375 8.296875 \nL 53.609375 0 \nL 7.328125 0 \nL 7.328125 8.296875 \nQ 12.9375 14.109375 22.625 23.890625 \nQ 32.328125 33.6875 34.8125 36.53125 \nQ 39.546875 41.84375 41.421875 45.53125 \nQ 43.3125 49.21875 43.3125 52.78125 \nQ 43.3125 58.59375 39.234375 62.25 \nQ 35.15625 65.921875 28.609375 65.921875 \nQ 23.96875 65.921875 18.8125 64.3125 \nQ 13.671875 62.703125 7.8125 59.421875 \nL 7.8125 69.390625 \nQ 13.765625 71.78125 18.9375 73 \nQ 24.125 74.21875 28.421875 74.21875 \nQ 39.75 74.21875 46.484375 68.546875 \nQ 53.21875 62.890625 53.21875 53.421875 \nQ 53.21875 48.921875 51.53125 44.890625 \nQ 49.859375 40.875 45.40625 35.40625 \nQ 44.1875 33.984375 37.640625 27.21875 \nQ 31.109375 20.453125 19.1875 8.296875 \nz\n\" id=\"DejaVuSans-50\"/>\n      </defs>\n      <g transform=\"translate(169.1465 14.798438)scale(0.1 -0.1)\">\n       <use xlink:href=\"#DejaVuSans-50\"/>\n       <use x=\"63.623047\" xlink:href=\"#DejaVuSans-48\"/>\n      </g>\n     </g>\n    </g>\n    <g id=\"xtick_6\">\n     <g id=\"line2d_11\">\n      <g>\n       <use style=\"stroke:#000000;stroke-width:0.8;\" x=\"211.749\" xlink:href=\"#m13d927b131\" y=\"241.318125\"/>\n      </g>\n     </g>\n     <g id=\"line2d_12\">\n      <g>\n       <use style=\"stroke:#000000;stroke-width:0.8;\" x=\"211.749\" xlink:href=\"#m9255439eb8\" y=\"23.878125\"/>\n      </g>\n     </g>\n     <g id=\"text_6\">\n      <!-- 25 -->\n      <g transform=\"translate(205.3865 14.798438)scale(0.1 -0.1)\">\n       <use xlink:href=\"#DejaVuSans-50\"/>\n       <use x=\"63.623047\" xlink:href=\"#DejaVuSans-53\"/>\n      </g>\n     </g>\n    </g>\n   </g>\n   <g id=\"matplotlib.axis_2\">\n    <g id=\"ytick_1\">\n     <g id=\"line2d_13\">\n      <defs>\n       <path d=\"M 0 0 \nL -3.5 0 \n\" id=\"mdb6cbb3274\" style=\"stroke:#000000;stroke-width:0.8;\"/>\n      </defs>\n      <g>\n       <use style=\"stroke:#000000;stroke-width:0.8;\" x=\"26.925\" xlink:href=\"#mdb6cbb3274\" y=\"27.502125\"/>\n      </g>\n     </g>\n     <g id=\"text_7\">\n      <!-- 0 -->\n      <g transform=\"translate(13.5625 31.301344)scale(0.1 -0.1)\">\n       <use xlink:href=\"#DejaVuSans-48\"/>\n      </g>\n     </g>\n    </g>\n    <g id=\"ytick_2\">\n     <g id=\"line2d_14\">\n      <g>\n       <use style=\"stroke:#000000;stroke-width:0.8;\" x=\"26.925\" xlink:href=\"#mdb6cbb3274\" y=\"63.742125\"/>\n      </g>\n     </g>\n     <g id=\"text_8\">\n      <!-- 5 -->\n      <g transform=\"translate(13.5625 67.541344)scale(0.1 -0.1)\">\n       <use xlink:href=\"#DejaVuSans-53\"/>\n      </g>\n     </g>\n    </g>\n    <g id=\"ytick_3\">\n     <g id=\"line2d_15\">\n      <g>\n       <use style=\"stroke:#000000;stroke-width:0.8;\" x=\"26.925\" xlink:href=\"#mdb6cbb3274\" y=\"99.982125\"/>\n      </g>\n     </g>\n     <g id=\"text_9\">\n      <!-- 10 -->\n      <g transform=\"translate(7.2 103.781344)scale(0.1 -0.1)\">\n       <use xlink:href=\"#DejaVuSans-49\"/>\n       <use x=\"63.623047\" xlink:href=\"#DejaVuSans-48\"/>\n      </g>\n     </g>\n    </g>\n    <g id=\"ytick_4\">\n     <g id=\"line2d_16\">\n      <g>\n       <use style=\"stroke:#000000;stroke-width:0.8;\" x=\"26.925\" xlink:href=\"#mdb6cbb3274\" y=\"136.222125\"/>\n      </g>\n     </g>\n     <g id=\"text_10\">\n      <!-- 15 -->\n      <g transform=\"translate(7.2 140.021344)scale(0.1 -0.1)\">\n       <use xlink:href=\"#DejaVuSans-49\"/>\n       <use x=\"63.623047\" xlink:href=\"#DejaVuSans-53\"/>\n      </g>\n     </g>\n    </g>\n    <g id=\"ytick_5\">\n     <g id=\"line2d_17\">\n      <g>\n       <use style=\"stroke:#000000;stroke-width:0.8;\" x=\"26.925\" xlink:href=\"#mdb6cbb3274\" y=\"172.462125\"/>\n      </g>\n     </g>\n     <g id=\"text_11\">\n      <!-- 20 -->\n      <g transform=\"translate(7.2 176.261344)scale(0.1 -0.1)\">\n       <use xlink:href=\"#DejaVuSans-50\"/>\n       <use x=\"63.623047\" xlink:href=\"#DejaVuSans-48\"/>\n      </g>\n     </g>\n    </g>\n    <g id=\"ytick_6\">\n     <g id=\"line2d_18\">\n      <g>\n       <use style=\"stroke:#000000;stroke-width:0.8;\" x=\"26.925\" xlink:href=\"#mdb6cbb3274\" y=\"208.702125\"/>\n      </g>\n     </g>\n     <g id=\"text_12\">\n      <!-- 25 -->\n      <g transform=\"translate(7.2 212.501344)scale(0.1 -0.1)\">\n       <use xlink:href=\"#DejaVuSans-50\"/>\n       <use x=\"63.623047\" xlink:href=\"#DejaVuSans-53\"/>\n      </g>\n     </g>\n    </g>\n   </g>\n   <g id=\"patch_3\">\n    <path d=\"M 26.925 241.318125 \nL 26.925 23.878125 \n\" style=\"fill:none;stroke:#000000;stroke-linecap:square;stroke-linejoin:miter;stroke-width:0.8;\"/>\n   </g>\n   <g id=\"patch_4\">\n    <path d=\"M 244.365 241.318125 \nL 244.365 23.878125 \n\" style=\"fill:none;stroke:#000000;stroke-linecap:square;stroke-linejoin:miter;stroke-width:0.8;\"/>\n   </g>\n   <g id=\"patch_5\">\n    <path d=\"M 26.925 241.318125 \nL 244.365 241.318125 \n\" style=\"fill:none;stroke:#000000;stroke-linecap:square;stroke-linejoin:miter;stroke-width:0.8;\"/>\n   </g>\n   <g id=\"patch_6\">\n    <path d=\"M 26.925 23.878125 \nL 244.365 23.878125 \n\" style=\"fill:none;stroke:#000000;stroke-linecap:square;stroke-linejoin:miter;stroke-width:0.8;\"/>\n   </g>\n  </g>\n  <g id=\"axes_2\">\n   <g id=\"patch_7\">\n    <path clip-path=\"url(#pff3de5c8bf)\" d=\"M 261.105 241.318125 \nL 261.105 240.46875 \nL 261.105 24.7275 \nL 261.105 23.878125 \nL 271.977 23.878125 \nL 271.977 24.7275 \nL 271.977 240.46875 \nL 271.977 241.318125 \nz\n\" style=\"fill:#ffffff;stroke:#ffffff;stroke-linejoin:miter;stroke-width:0.01;\"/>\n   </g>\n   <image height=\"218\" id=\"imagec28d7d6fee\" transform=\"scale(1 -1)translate(0 -218)\" width=\"11\" x=\"261\" xlink:href=\"data:image/png;base64,\niVBORw0KGgoAAAANSUhEUgAAAAsAAADaCAYAAABwzrisAAAABHNCSVQICAgIfAhkiAAAAVZJREFUaIHtmkGOwkAMBMf2ZF/GG/j/Q4Bw3pvrUJJHgrPValf3BEgSj3zeq/nZkdGdXXtF9oc95UWUo4rYIJ6TeGbKMxYcQgMNl2fDquiJNG7Wjfas2bopnj3OpSn3Z+mCGuebnUFgwysSUhbRsbjJMAkF2TiRBlxQ6zNDR5RnXDeGJHhkN7xLgVbRIaFModGfVT3PoDHE84nlH4Lut+A/5eyf7zPRsdMt0QAm5sTtJYg4w2udpQx+XZoLepxD82wqk+H8WMoz0KUWN6Jh2gDDRS4FjPM6D12R8iMbkIbV5z1jQabs0QiNhqescb7yrdmwaBSxscmCxULxFrSUr0A0kA0wjBJEymzBGQkyzgTdFS9iw6so6gZCp9FAC5JQUNzopMAFre8UlqBm449VtD1LPfeF1wbPmdcu8H9pX+QZUBJlZIMpE897gdd1irxzkuAmFbqd9QUoCIBqMoUuSwAAAABJRU5ErkJggg==\" y=\"-23\"/>\n   <g id=\"matplotlib.axis_3\"/>\n   <g id=\"matplotlib.axis_4\">\n    <g id=\"ytick_7\">\n     <g id=\"line2d_19\">\n      <defs>\n       <path d=\"M 0 0 \nL 3.5 0 \n\" id=\"mbf2858f022\" style=\"stroke:#000000;stroke-width:0.8;\"/>\n      </defs>\n      <g>\n       <use style=\"stroke:#000000;stroke-width:0.8;\" x=\"271.977\" xlink:href=\"#mbf2858f022\" y=\"241.318125\"/>\n      </g>\n     </g>\n     <g id=\"text_13\">\n      <!-- 0.00 -->\n      <defs>\n       <path d=\"M 10.6875 12.40625 \nL 21 12.40625 \nL 21 0 \nL 10.6875 0 \nz\n\" id=\"DejaVuSans-46\"/>\n      </defs>\n      <g transform=\"translate(278.977 245.117344)scale(0.1 -0.1)\">\n       <use xlink:href=\"#DejaVuSans-48\"/>\n       <use x=\"63.623047\" xlink:href=\"#DejaVuSans-46\"/>\n       <use x=\"95.410156\" xlink:href=\"#DejaVuSans-48\"/>\n       <use x=\"159.033203\" xlink:href=\"#DejaVuSans-48\"/>\n      </g>\n     </g>\n    </g>\n    <g id=\"ytick_8\">\n     <g id=\"line2d_20\">\n      <g>\n       <use style=\"stroke:#000000;stroke-width:0.8;\" x=\"271.977\" xlink:href=\"#mbf2858f022\" y=\"214.101474\"/>\n      </g>\n     </g>\n     <g id=\"text_14\">\n      <!-- 0.25 -->\n      <g transform=\"translate(278.977 217.900692)scale(0.1 -0.1)\">\n       <use xlink:href=\"#DejaVuSans-48\"/>\n       <use x=\"63.623047\" xlink:href=\"#DejaVuSans-46\"/>\n       <use x=\"95.410156\" xlink:href=\"#DejaVuSans-50\"/>\n       <use x=\"159.033203\" xlink:href=\"#DejaVuSans-53\"/>\n      </g>\n     </g>\n    </g>\n    <g id=\"ytick_9\">\n     <g id=\"line2d_21\">\n      <g>\n       <use style=\"stroke:#000000;stroke-width:0.8;\" x=\"271.977\" xlink:href=\"#mbf2858f022\" y=\"186.884822\"/>\n      </g>\n     </g>\n     <g id=\"text_15\">\n      <!-- 0.50 -->\n      <g transform=\"translate(278.977 190.684041)scale(0.1 -0.1)\">\n       <use xlink:href=\"#DejaVuSans-48\"/>\n       <use x=\"63.623047\" xlink:href=\"#DejaVuSans-46\"/>\n       <use x=\"95.410156\" xlink:href=\"#DejaVuSans-53\"/>\n       <use x=\"159.033203\" xlink:href=\"#DejaVuSans-48\"/>\n      </g>\n     </g>\n    </g>\n    <g id=\"ytick_10\">\n     <g id=\"line2d_22\">\n      <g>\n       <use style=\"stroke:#000000;stroke-width:0.8;\" x=\"271.977\" xlink:href=\"#mbf2858f022\" y=\"159.668171\"/>\n      </g>\n     </g>\n     <g id=\"text_16\">\n      <!-- 0.75 -->\n      <defs>\n       <path d=\"M 8.203125 72.90625 \nL 55.078125 72.90625 \nL 55.078125 68.703125 \nL 28.609375 0 \nL 18.3125 0 \nL 43.21875 64.59375 \nL 8.203125 64.59375 \nz\n\" id=\"DejaVuSans-55\"/>\n      </defs>\n      <g transform=\"translate(278.977 163.467389)scale(0.1 -0.1)\">\n       <use xlink:href=\"#DejaVuSans-48\"/>\n       <use x=\"63.623047\" xlink:href=\"#DejaVuSans-46\"/>\n       <use x=\"95.410156\" xlink:href=\"#DejaVuSans-55\"/>\n       <use x=\"159.033203\" xlink:href=\"#DejaVuSans-53\"/>\n      </g>\n     </g>\n    </g>\n    <g id=\"ytick_11\">\n     <g id=\"line2d_23\">\n      <g>\n       <use style=\"stroke:#000000;stroke-width:0.8;\" x=\"271.977\" xlink:href=\"#mbf2858f022\" y=\"132.451519\"/>\n      </g>\n     </g>\n     <g id=\"text_17\">\n      <!-- 1.00 -->\n      <g transform=\"translate(278.977 136.250738)scale(0.1 -0.1)\">\n       <use xlink:href=\"#DejaVuSans-49\"/>\n       <use x=\"63.623047\" xlink:href=\"#DejaVuSans-46\"/>\n       <use x=\"95.410156\" xlink:href=\"#DejaVuSans-48\"/>\n       <use x=\"159.033203\" xlink:href=\"#DejaVuSans-48\"/>\n      </g>\n     </g>\n    </g>\n    <g id=\"ytick_12\">\n     <g id=\"line2d_24\">\n      <g>\n       <use style=\"stroke:#000000;stroke-width:0.8;\" x=\"271.977\" xlink:href=\"#mbf2858f022\" y=\"105.234868\"/>\n      </g>\n     </g>\n     <g id=\"text_18\">\n      <!-- 1.25 -->\n      <g transform=\"translate(278.977 109.034086)scale(0.1 -0.1)\">\n       <use xlink:href=\"#DejaVuSans-49\"/>\n       <use x=\"63.623047\" xlink:href=\"#DejaVuSans-46\"/>\n       <use x=\"95.410156\" xlink:href=\"#DejaVuSans-50\"/>\n       <use x=\"159.033203\" xlink:href=\"#DejaVuSans-53\"/>\n      </g>\n     </g>\n    </g>\n    <g id=\"ytick_13\">\n     <g id=\"line2d_25\">\n      <g>\n       <use style=\"stroke:#000000;stroke-width:0.8;\" x=\"271.977\" xlink:href=\"#mbf2858f022\" y=\"78.018216\"/>\n      </g>\n     </g>\n     <g id=\"text_19\">\n      <!-- 1.50 -->\n      <g transform=\"translate(278.977 81.817435)scale(0.1 -0.1)\">\n       <use xlink:href=\"#DejaVuSans-49\"/>\n       <use x=\"63.623047\" xlink:href=\"#DejaVuSans-46\"/>\n       <use x=\"95.410156\" xlink:href=\"#DejaVuSans-53\"/>\n       <use x=\"159.033203\" xlink:href=\"#DejaVuSans-48\"/>\n      </g>\n     </g>\n    </g>\n    <g id=\"ytick_14\">\n     <g id=\"line2d_26\">\n      <g>\n       <use style=\"stroke:#000000;stroke-width:0.8;\" x=\"271.977\" xlink:href=\"#mbf2858f022\" y=\"50.801565\"/>\n      </g>\n     </g>\n     <g id=\"text_20\">\n      <!-- 1.75 -->\n      <g transform=\"translate(278.977 54.600783)scale(0.1 -0.1)\">\n       <use xlink:href=\"#DejaVuSans-49\"/>\n       <use x=\"63.623047\" xlink:href=\"#DejaVuSans-46\"/>\n       <use x=\"95.410156\" xlink:href=\"#DejaVuSans-55\"/>\n       <use x=\"159.033203\" xlink:href=\"#DejaVuSans-53\"/>\n      </g>\n     </g>\n    </g>\n   </g>\n   <g id=\"patch_8\">\n    <path d=\"M 261.105 241.318125 \nL 261.105 240.46875 \nL 261.105 24.7275 \nL 261.105 23.878125 \nL 271.977 23.878125 \nL 271.977 24.7275 \nL 271.977 240.46875 \nL 271.977 241.318125 \nz\n\" style=\"fill:none;stroke:#000000;stroke-linejoin:miter;stroke-width:0.8;\"/>\n   </g>\n  </g>\n </g>\n <defs>\n  <clipPath id=\"p6cff499d28\">\n   <rect height=\"217.44\" width=\"217.44\" x=\"26.925\" y=\"23.878125\"/>\n  </clipPath>\n  <clipPath id=\"pff3de5c8bf\">\n   <rect height=\"217.44\" width=\"10.872\" x=\"261.105\" y=\"23.878125\"/>\n  </clipPath>\n </defs>\n</svg>\n",
      "image/png": "[encoded data removed]"
     },
     "metadata": {
      "needs_background": "light"
     }
    },
    {
     "output_type": "execute_result",
     "data": {
      "text/plain": "<sparse matrix of shape (30, 30) and density 0.29>"
     },
     "metadata": {},
     "execution_count": 16
    }
   ],
   "source": [
    "array=sp.random_banded(30,4)\n",
    "\n",
    "a=sp.sparse(array)\n",
    "a.show()\n",
    "a"
   ]
  },
  {
   "cell_type": "code",
   "execution_count": 17,
   "metadata": {},
   "outputs": [
    {
     "output_type": "execute_result",
     "data": {
      "text/plain": "['density', 'shape', 'T', 'CSR', 'N']"
     },
     "metadata": {},
     "execution_count": 17
    }
   ],
   "source": [
    "list(a.__dict__.keys())"
   ]
  },
  {
   "cell_type": "markdown",
   "metadata": {},
   "source": [
    "The instantiated object defines the following attributes `['density', 'shape', 'T', 'CSR', 'N']` of which N is only defined for square matrices, as this would be ambiguous.\n",
    "\n",
    "To make these objects actually useful, we need to implement the `__getitem__` and `__setitem__` method.\n",
    "\n",
    "These methods make the object subscribtable which makes them a lot more useful."
   ]
  },
  {
   "cell_type": "code",
   "execution_count": 18,
   "metadata": {},
   "outputs": [
    {
     "output_type": "stream",
     "name": "stdout",
     "text": "pre  1.3808241970227058\npost  2.0\n"
    }
   ],
   "source": [
    "print(\"pre \", a[1,1])\n",
    "a[1,1] = 2\n",
    "print(\"post \",a[1,1])"
   ]
  },
  {
   "cell_type": "markdown",
   "metadata": {},
   "source": [
    "Using these methods now greatly simplifys the more complicated methods such as `__add__`, `__sub__` and `__matmul__`.\n",
    "\n",
    "We can now just iterate over both array dimensions and do not need to worry about the CSR lists.\n",
    "This, however, has implications about performance of the code.\n",
    "\n",
    "The following test was done using [line-profiler](https://pypi.org/project/line-profiler/) and we can see how much time each line takes to execute."
   ]
  },
  {
   "cell_type": "code",
   "execution_count": 24,
   "metadata": {},
   "outputs": [
    {
     "output_type": "stream",
     "name": "stdout",
     "text": "Timer unit: 1e-06 s\n\nTotal time: 56.7281 s\nFile: /home/simon/Git-Repos/sparse-matrices/libsparse.py\nFunction: _mdot at line 358\n\nLine #      Hits         Time  Per Hit   % Time  Line Contents\n==============================================================\n   358                                               @profile\n   359                                               def _mdot(self, other):\n   360                                                   '''\n   361                                                   Author: Simon Glennemeier-Marke\n   362                                                   '''\n   363         1         11.0     11.0      0.0          result = np.zeros((self.shape[0], other.shape[1]))\n   364       101         66.0      0.7      0.0          for i in range(self.shape[0]):\n   365     10100       6358.0      0.6      0.0              for j in range(other.shape[1]):\n   366     10000   26168327.0   2616.8     46.1                  row = self[i, None]\n   367     10000   26520198.0   2652.0     46.7                  col = other[None, j]\n   368                                                           # result[i, j] = sum([r*c for r, c in zip(row, col)])\n   369     10000      14817.0      1.5      0.0                  temp_result = 0\n   370   1010000     586220.0      0.6      1.0                  for r, c in zip(row, col):\n   371   1000000    2565959.0      2.6      4.5                      if r*c < np.finfo(np.float).eps:\n   372                                                                   continue\n   373   1000000     839241.0      0.8      1.5                      temp_result += r*c\n   374     10000      21608.0      2.2      0.0                  result[i, j] = temp_result\n   375         1        103.0    103.0      0.0          if np.alltrue(result == np.zeros_like(result)):\n   376                                                       raise AllZeroError\n   377                                                   else:\n   378         1       5216.0   5216.0      0.0              return sparse(result)\n\nTotal time: 8.00777 s\nFile: /home/simon/Git-Repos/sparse-matrices/libsparse.py\nFunction: _mdot_fast at line 381\n\nLine #      Hits         Time  Per Hit   % Time  Line Contents\n==============================================================\n   381                                               @profile\n   382                                               def _mdot_fast(self, other):\n   383                                                   '''\n   384                                                   Author: Henrik Spielvogel\n   385                                                   '''\n   386         1       9314.0   9314.0      0.1          other = other.transpose()\n   387         1          2.0      2.0      0.0          n = self.N\n   388         1         13.0     13.0      0.0          result = np.zeros((n, n))\n   389       101         58.0      0.6      0.0          for i in range(n):\n   390     10100       6348.0      0.6      0.1              for j in range(n):\n   391     10000      18319.0      1.8      0.2                  slice_A = slice(self.CSR['IROW'][i], self.CSR['IROW'][i+1])\n   392     10000      11061.0      1.1      0.1                  slice_B = slice(other.CSR['IROW'][j], other.CSR['IROW'][j+1])\n   393                                           \n   394     10000      17088.0      1.7      0.2                  row_val_A = self.CSR['AVAL'][slice_A]\n   395     10000      11942.0      1.2      0.1                  col_n_A = self.CSR['JCOL'][slice_A]\n   396                                           \n   397     10000      15586.0      1.6      0.2                  row_val_B = other.CSR['AVAL'][slice_B]\n   398     10000      13995.0      1.4      0.2                  col_n_B = other.CSR['JCOL'][slice_B]\n   399                                           \n   400   1010000     555482.0      0.5      6.9                  for ind in col_n_A:\n   401   1000000    1939786.0      1.9     24.2                      if ind in col_n_B:\n   402   2000000    3349362.0      1.7     41.8                          result[i][j] += row_val_A[col_n_A.index(ind)] * \\\n   403   1000000    2053771.0      2.1     25.6                              row_val_B[col_n_B.index(ind)]\n   404         1       5641.0   5641.0      0.1          return sparse(result)\n\n"
    }
   ],
   "source": [
    "!python -m line_profiler mdot.lprof"
   ]
  },
  {
   "cell_type": "markdown",
   "metadata": {},
   "source": [
    "As we can see in the header of each profiled function, the first method is, in this case, 12 times slower to compute a matrix product of two (100x100)-matrices.\n",
    "\n",
    "Therefore it has to be considered if the time penalty constitutes the logic simplicity. To keep performance high the default behaviour is the `_mdot_fast` method."
   ]
  },
  {
   "cell_type": "markdown",
   "metadata": {},
   "source": [
    "\n",
    "Another example of optimization is `construct_CSR`. This method is used to create the CSR lists from a numpy.ndarray.\n",
    "\n",
    "For this benchmark both functions were being called on a `scipy.sparse` array of size (1000x1000) and as evident, the *fast* method is roughly 10 times faster."
   ]
  },
  {
   "cell_type": "code",
   "execution_count": 26,
   "metadata": {},
   "outputs": [
    {
     "output_type": "stream",
     "name": "stdout",
     "text": "Timer unit: 1e-06 s\n\nTotal time: 1.25364 s\nFile: /home/simon/Git-Repos/sparse-matrices/libsparse.py\nFunction: construct_CSR at line 236\n\nLine #      Hits         Time  Per Hit   % Time  Line Contents\n==============================================================\n   236                                               @profile\n   237                                               def construct_CSR(self, array):\n   238                                                   '''\n   239                                                   Author: Simon Glennemeier-Marke\n   240                                           \n   241                                                   Constructs a CSR form of a given array.\n   242                                           \n   243                                                   Args:\n   244                                                   > `array` :  sparse numpy array\n   245                                           \n   246                                                   Returns:\n   247                                                   > self.CSR :  dict containing the CSR object\n   248                                                   '''\n   249         1          4.0      4.0      0.0          csr = {'AVAL': [], 'JCOL': [], 'IROW': [0]}\n   250      1001       1487.0      1.5      0.1          for _, col in enumerate(array):\n   251   1001000     500505.0      0.5     39.9              for i, el in enumerate(col):\n   252   1000000     616790.0      0.6     49.2                  if el != 0:\n   253    100000      49106.0      0.5      3.9                      csr['AVAL'].append(el)\n   254    100000      47767.0      0.5      3.8                      csr['JCOL'].append(i)\n   255    100000      36573.0      0.4      2.9                  continue\n   256      1000       1404.0      1.4      0.1              csr['IROW'].append(len(csr['AVAL']))\n   257                                           \n   258         1          1.0      1.0      0.0          return csr\n\nTotal time: 0.113489 s\nFile: /home/simon/Git-Repos/sparse-matrices/libsparse.py\nFunction: construct_CSR_fast at line 260\n\nLine #      Hits         Time  Per Hit   % Time  Line Contents\n==============================================================\n   260                                               @profile\n   261                                               def construct_CSR_fast(self, array):\n   262                                                   '''\n   263                                                   Author: Simon Glennemeier-Marke\n   264                                           \n   265                                                   Faster version of construct_CSR.\n   266                                           \n   267                                                   Regular implementation is O(n^2), where as this is O(n).\n   268                                           \n   269                                                   This is achieved by only iterating over the rows and filling it all at once.\n   270                                                   In addition, we now use numpy methods which are a lot faster.\n   271                                           \n   272                                                   Args:\n   273                                                   > `array` :  sparse numpy array\n   274                                           \n   275                                                   Returns:\n   276                                                   > self.CSR :  dict containing the CSR object\n   277                                                   '''\n   278                                                   array: np.ndarray\n   279         1         18.0     18.0      0.0          jcol = np.array([], dtype=np.int32)\n   280         1          3.0      3.0      0.0          aval = np.array([], dtype=np.float)\n   281         1          6.0      6.0      0.0          irow = np.array([0], dtype=np.int32)\n   282      1001        933.0      0.9      0.8          for row in array:\n   283                                                       row: np.ndarray\n   284      1000      14711.0     14.7     13.0              indices = np.nonzero(row)[0]\n   285      1000      32792.0     32.8     28.9              jcol = np.append(jcol, indices)\n   286      1000      39031.0     39.0     34.4              aval = np.append(aval, np.take(row, indices))\n   287      1000      14885.0     14.9     13.1              irow = np.append(irow, len(aval))\n   288         1      11108.0  11108.0      9.8          csr = {'AVAL': list(aval), 'JCOL': list(jcol), 'IROW': list(irow)}\n   289         1          2.0      2.0      0.0          return csr\n\n"
    }
   ],
   "source": [
    "!python -m line_profiler construct_CSR.lprof"
   ]
  },
  {
   "cell_type": "markdown",
   "metadata": {},
   "source": [
    "The bulk of the time improvements is due to a change in concepts in which the incoming array is disected. \n",
    "The first implementation loops over the two dimensions of the incoming array making the complexity O(n²). This results in a long runtime altough the individual operations are very fast.\n",
    "\n",
    "For example a simple `if`-statement taking 0.6µs when called 1 million times, results in it taking ~50% of the runtime.\n",
    "\n",
    "The second implementation uses numpy arrays and indexation to process a whole row at once, making the complexity O(n).\n",
    "It is however computationally more complex and for smaller arrays we loose this advantage."
   ]
  },
  {
   "cell_type": "code",
   "execution_count": null,
   "metadata": {},
   "outputs": [],
   "source": []
  }
 ],
 "metadata": {
  "language_info": {
   "codemirror_mode": {
    "name": "ipython",
    "version": 3
   },
   "file_extension": ".py",
   "mimetype": "text/x-python",
   "name": "python",
   "nbconvert_exporter": "python",
   "pygments_lexer": "ipython3",
   "version": "3.8.1-final"
  },
  "orig_nbformat": 2,
  "kernelspec": {
   "name": "python38164bit56891ad17dc544abb67db0e0028993e0",
   "display_name": "Python 3.8.1 64-bit"
  }
 },
 "nbformat": 4,
 "nbformat_minor": 2
}
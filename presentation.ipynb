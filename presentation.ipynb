{
 "cells": [
  {
   "cell_type": "code",
   "execution_count": null,
   "metadata": {},
   "outputs": [],
   "source": [
    "import libsparse as sp\n",
    "import matplotlib.pyplot as plt"
   ]
  },
  {
   "cell_type": "markdown",
   "metadata": {},
   "source": [
    "sparse matrices\n",
    "===============\n",
    "***\n",
    "Motivation\n",
    "----------\n",
    "Sparse matrices are matrices that are mostly empty i.e. zeros.\n",
    "\n",
    "They appear frequently when solving physics problmes, such as in the PDE of a linear chain with 6 elements.\n",
    "\n",
    "The Differential Equation describing these these systems is called *Hooke's Law*:\n",
    "$-\\ddot{x}=\\mathbf{\\kappa} x$\n",
    "\n",
    "In this case $\\kappa$ is a matrix containing the spring coefficients acting on each element.\n",
    "\n",
    "$$\n",
    "\\kappa =\n",
    "\\begin{pmatrix}\n",
    "2 & -1 & 0 & 0 & 0 & 0\\\\\n",
    "-1 & 2 & -1 & 0 & 0 & 0\\\\\n",
    "0 & -1 & 2 & -1 & 0 & 0\\\\\n",
    "0 & 0 & -1 & 2 & -1 & 0\\\\\n",
    "0 & 0 & 0 & -1 & 2 & -1\\\\\n",
    "0 & 0 & 0 & 0 & -1 & 2\n",
    "\\end{pmatrix}\n",
    "$$\n",
    "\n",
    "As one can see, most of the elements in this matrix are zero.\n",
    "\n",
    "In these type of problems and in many more, these matrices can get very large and memory intensive. We therefore need a way of working with these low density matrices in a memory efficient way.\n",
    "\n",
    "The solution is to not store the redundant zeros.\n",
    "\n",
    "***\n",
    "Storage scheme\n",
    "---------------\n",
    "Not storing the zeros can be done with a number of different strategies:\n",
    "\n",
    "- **C**ompressed **S**parse **R**ow     (CSR)\n",
    "- **C**ompressed **S**parse **C**olumn  (CSC)\n",
    "- **Li**st of **L**ists                 (LIL)\n",
    "- **Coo**rdinate List                   (COO)\n",
    "- ...\n",
    "\n",
    "In this project we will focus on the CSR format.\n",
    "\n",
    "The CSR format consists of 3 lists:\n",
    "\n",
    "|      | 0 |  1 |  2 |  3 |  4 |  5 |  6 |  7 |  8 |  9 |\n",
    "|:----:|--:|---:|---:|---:|---:|---:|---:|---:|---:|---:|\n",
    "| AVAL | 2 | -1 | -1 |  2 | -1 | -1 |  2 | -1 | -1 |  2 |\n",
    "| JCOL | 1 |  2 |  1 |  2 |  3 |  2 |  3 |  4 |  3 |  4 |\n",
    "| IROW | 0 |  2 |  5 |  8 | 10 |\n",
    "\n",
    "- AVAL : the values\n",
    "- JCOL : the index in the matrix where the value from AVAL belongs\n",
    "- IROW : these are the indices of AVAL or JCOL where a new row begins\n",
    "\n",
    "\n",
    "***\n",
    "## Our Project\n",
    "\n",
    "\n",
    "The task of our project is to implement the storage scheme and necessary mathmatical operations to solve linear systems of equations.\n",
    "In order to achieve this and as an expansion of this task, our aim was to create a data object which can be used just as seamless as the `scipy.sparse` object.\n",
    "\n",
    "We therefore needed to develop a class which can be given a standard numpy array and constructs CSR lists as well as providing methods like addition subtraction and mulitplication. These should work on these lists without creating a full-size `numpy.ndarray`.\n",
    "\n",
    "In addition we devoleped a class to represent linear systems and which implements different methods of solving.\n",
    "\n",
    "Creating the sparse object with an ndarray:"
   ]
  },
  {
   "cell_type": "code",
   "execution_count": null,
   "metadata": {},
   "outputs": [],
   "source": [
    "array=sp.random_banded(30,4)\n",
    "\n",
    "a=sp.sparse(array)\n",
    "a.show()\n",
    "a"
   ]
  },
  {
   "cell_type": "markdown",
   "metadata": {},
   "source": [
    "The instantiated object defines the following attributes `['density', 'shape', 'T', 'CSR', 'N']` of which N is only defined for square matrices, as the dimensionality would be ambiguous.\n",
    "\n",
    "To make these objects actually useful, we need to implement the `__getitem__` and `__setitem__` method.\n",
    "\n",
    "These methods make the object subscribtable which makes them a lot more useful."
   ]
  },
  {
   "cell_type": "code",
   "execution_count": null,
   "metadata": {},
   "outputs": [],
   "source": [
    "print(\"pre \", a[1,1])\n",
    "a[1,1] = 2\n",
    "print(\"post \",a[1,1])"
   ]
  },
  {
   "cell_type": "markdown",
   "metadata": {},
   "source": [
    "Using these methods now greatly simplifiess the more complicated methods such as `__add__`, `__sub__` and `__matmul__`.\n",
    "\n",
    "We can now just iterate over both array dimensions and do not need to worry about the CSR lists.\n",
    "This, however, has implications about performance of the code, which we will further discuss in [Optimization].\n",
    "\n",
    "As mentioned previously the data object created by us can handle basic mathmatic operations such as addition, subtraction and matix multiplication as well as transposition.\n",
    "\n",
    "<!-- Jupyter stinkt -->\n",
    "<!-- .py >> .ipynb -->"
   ]
  },
  {
   "cell_type": "code",
   "execution_count": null,
   "metadata": {},
   "outputs": [],
   "source": [
    "a = sp.sparse(sp.random_banded(100,15))\n",
    "b = sp.sparse(sp.random_banded(100,15))\n",
    "\n",
    "add = a + b\n",
    "sub = a - b\n",
    "mul = a @ b\n",
    "\n",
    "add.show()\n",
    "sub.show()\n",
    "mul.show()"
   ]
  },
  {
   "cell_type": "markdown",
   "metadata": {},
   "source": [
    "\n",
    "***\n",
    "## Optimization\n",
    "\n",
    "The following test was done using [line-profiler](https://pypi.org/project/line-profiler/) and we can see how much time each line takes to execute.<br>\n",
    "This gives us the ability to spot inefficient code and work on faster methods."
   ]
  },
  {
   "cell_type": "markdown",
   "metadata": {},
   "source": [
    "```\n",
    "Timer unit: 1e-06 s\n",
    "\n",
    "Total time: 20.3556 s\n",
    "File: libsparse.py\n",
    "Function: _mdot at line 364\n",
    "\n",
    "Line #      Hits         Time  Per Hit   % Time  Line Contents\n",
    "==============================================================\n",
    "   366                                               def _mdot(self, other):\n",
    "   367                                                   '''\n",
    "   368                                                   Author: Simon Glennemeier-Marke\n",
    "   369                                                   '''\n",
    "   370         1         14.0     14.0      0.0          result = np.zeros((self.shape[0], other.shape[1]))\n",
    "   371       101         47.0      0.5      0.0          for i in range(self.shape[0]):\n",
    "   372     10100       5262.0      0.5      0.0              for j in range(other.shape[1]):\n",
    "   373     10000    8486744.0    848.7     41.7                  row = self[i, None]\n",
    "   374     10000    8553620.0    855.4     42.0                  col = other[None, j]\n",
    "   375                                                           # result[i, j] = sum([r*c for r, c in zip(row, col)])\n",
    "   376     10000       9128.0      0.9      0.0                  temp_result = 0\n",
    "   377   1010000     468805.0      0.5      2.3                  for r, c in zip(row, col):\n",
    "   378   1000000    2344940.0      2.3     11.5                      if r*c < np.finfo(np.float).eps:\n",
    "   379    953287     424089.0      0.4      2.1                          continue\n",
    "   380     46713      37779.0      0.8      0.2                      temp_result += r*c\n",
    "   381     10000      15647.0      1.6      0.1                  result[i, j] = temp_result\n",
    "   382         1        146.0    146.0      0.0          if np.alltrue(result == np.zeros_like(result)):\n",
    "   383                                                       raise AllZeroError\n",
    "   384                                                   else:\n",
    "   385         1       9370.0   9370.0      0.0              return sparse(result)\n",
    "\n",
    "Total time: 0.462044 s\n",
    "File: libsparse.py\n",
    "Function: _mdot_fast at line 387\n",
    "\n",
    "Line #      Hits         Time  Per Hit   % Time  Line Contents\n",
    "==============================================================\n",
    "   389                                               def _mdot_fast(self, other):\n",
    "   390                                                   '''\n",
    "   391                                                   Author: Henrik Spielvogel\n",
    "   392                                                   '''\n",
    "   393         1       8160.0   8160.0      1.8          other = other.transpose()\n",
    "   394         1          3.0      3.0      0.0          n = self.N\n",
    "   395         1          9.0      9.0      0.0          result = np.zeros((n, n))\n",
    "   396       101         62.0      0.6      0.0          for i in range(n):\n",
    "   397     10100       4501.0      0.4      1.0              for j in range(n):\n",
    "   398     10000       7957.0      0.8      1.7                  slice_A = slice(self.CSR['IROW'][i], self.CSR['IROW'][i+1])\n",
    "   399     10000       7080.0      0.7      1.5                  slice_B = slice(other.CSR['IROW'][j], other.CSR['IROW'][j+1])\n",
    "   400                                           \n",
    "   401     10000       6906.0      0.7      1.5                  row_val_A = self.CSR['AVAL'][slice_A]\n",
    "   402     10000       6231.0      0.6      1.3                  col_n_A = self.CSR['JCOL'][slice_A]\n",
    "   403                                           \n",
    "   404     10000       7153.0      0.7      1.5                  row_val_B = other.CSR['AVAL'][slice_B]\n",
    "   405     10000       6604.0      0.7      1.4                  col_n_B = other.CSR['JCOL'][slice_B]\n",
    "   406                                           \n",
    "   407    224600      95542.0      0.4     20.7                  for ind in col_n_A:\n",
    "   408    214600     185908.0      0.9     40.2                      if ind in col_n_B:\n",
    "   409     93426      85884.0      0.9     18.6                          result[i][j] += row_val_A[col_n_A.index(ind)] * \\\n",
    "   410     46713      36002.0      0.8      7.8                              row_val_B[col_n_B.index(ind)]\n",
    "   411         1       4042.0   4042.0      0.9          return sparse(result)\n",
    "```"
   ]
  },
  {
   "cell_type": "markdown",
   "metadata": {},
   "source": [
    "As we can see in the header of each profiled function, the first method `_mdot` is ~40 times slower than `_mdot_fast` in computing a matrix product of two (100x100)-matrices.<br>\n",
    "The reason for the speed up is mainly due to the inefficient use of `__getitem__` and `__setitem__`.\n",
    "On thier own, these methods are sufficiently fast, but when used in a function which uses these n²-times they are very inefficient.\n",
    "\n",
    "A more efficient way is to directly work with the storage scheme; as done in the `_mdot_fast`.\n",
    "An attempt was made to improve `__getitem__` and `__setitem__`. However we were unable to achieve a significant improvement.\n",
    "\n",
    "One approach was done using caching or memoization. By using the `@memoize` decorator, it is checked wether the function has already been evaluated with the given arguments. If this is the case, the previous value is returned without calling the function. If the arguments do not match previous function calls, the function is evaluated and its output is stored in a dictionary with the arguments as the key.\n",
    "\n",
    "Although this would in theory speed up the calculations, it significantly slowed them down. The reason is again the enormous number of calls to the decorator and the time gained by cached value is not sufficient to nullify the time penalty.\n",
    "\n",
    "Therefore it has to be considered if the time penalty constitutes the logical simplicity. In our opinion it clearly did not, hence to keep performance high the default behaviour is the `_mdot_fast` method.\n",
    "\n"
   ]
  },
  {
   "cell_type": "markdown",
   "metadata": {},
   "source": [
    "These optimization studys were done for a number of methods included in `libsparse.py`. <br> We will not discuss them here any further as the strategys for improvement are analogous and less interesting (such as using `numpy.ndarray`s instead of built-in `list`s)."
   ]
  }
 ],
 "metadata": {
  "language_info": {
   "codemirror_mode": {
    "name": "ipython",
    "version": 3
   },
   "file_extension": ".py",
   "mimetype": "text/x-python",
   "name": "python",
   "nbconvert_exporter": "python",
   "pygments_lexer": "ipython3",
   "version": "3.8.1-final"
  },
  "orig_nbformat": 2,
  "kernelspec": {
   "name": "python38164bit56891ad17dc544abb67db0e0028993e0",
   "display_name": "Python 3.8.1 64-bit"
  }
 },
 "nbformat": 4,
 "nbformat_minor": 2
}